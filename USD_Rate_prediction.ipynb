{
  "nbformat": 4,
  "nbformat_minor": 0,
  "metadata": {
    "kernelspec": {
      "display_name": "Python 3",
      "language": "python",
      "name": "python3"
    },
    "language_info": {
      "codemirror_mode": {
        "name": "ipython",
        "version": 3
      },
      "file_extension": ".py",
      "mimetype": "text/x-python",
      "name": "python",
      "nbconvert_exporter": "python",
      "pygments_lexer": "ipython3",
      "version": "3.7.6"
    },
    "colab": {
      "name": "USD Rate prediction.ipynb",
      "provenance": [],
      "toc_visible": true
    }
  },
  "cells": [
    {
      "cell_type": "code",
      "metadata": {
        "id": "c-b5oTVrJPKJ"
      },
      "source": [
        "import pandas"
      ],
      "execution_count": 1,
      "outputs": []
    },
    {
      "cell_type": "code",
      "metadata": {
        "id": "mmo0wP5CJPKP"
      },
      "source": [
        "rates = pandas.read_excel(\"usd_rates.xlsx\")"
      ],
      "execution_count": 2,
      "outputs": []
    },
    {
      "cell_type": "code",
      "metadata": {
        "id": "UXlRQUrVJPKV",
        "outputId": "18fc695c-813e-4ebf-9224-bbcf14276db5",
        "colab": {
          "base_uri": "https://localhost:8080/",
          "height": 204
        }
      },
      "source": [
        "rates.head()"
      ],
      "execution_count": 3,
      "outputs": [
        {
          "output_type": "execute_result",
          "data": {
            "text/html": [
              "<div>\n",
              "<style scoped>\n",
              "    .dataframe tbody tr th:only-of-type {\n",
              "        vertical-align: middle;\n",
              "    }\n",
              "\n",
              "    .dataframe tbody tr th {\n",
              "        vertical-align: top;\n",
              "    }\n",
              "\n",
              "    .dataframe thead th {\n",
              "        text-align: right;\n",
              "    }\n",
              "</style>\n",
              "<table border=\"1\" class=\"dataframe\">\n",
              "  <thead>\n",
              "    <tr style=\"text-align: right;\">\n",
              "      <th></th>\n",
              "      <th>nominal</th>\n",
              "      <th>data</th>\n",
              "      <th>curs</th>\n",
              "      <th>cdx</th>\n",
              "    </tr>\n",
              "  </thead>\n",
              "  <tbody>\n",
              "    <tr>\n",
              "      <th>0</th>\n",
              "      <td>1</td>\n",
              "      <td>2017-01-10</td>\n",
              "      <td>59.8961</td>\n",
              "      <td>Доллар США</td>\n",
              "    </tr>\n",
              "    <tr>\n",
              "      <th>1</th>\n",
              "      <td>1</td>\n",
              "      <td>2017-01-11</td>\n",
              "      <td>59.9533</td>\n",
              "      <td>Доллар США</td>\n",
              "    </tr>\n",
              "    <tr>\n",
              "      <th>2</th>\n",
              "      <td>1</td>\n",
              "      <td>2017-01-12</td>\n",
              "      <td>60.1614</td>\n",
              "      <td>Доллар США</td>\n",
              "    </tr>\n",
              "    <tr>\n",
              "      <th>3</th>\n",
              "      <td>1</td>\n",
              "      <td>2017-01-13</td>\n",
              "      <td>59.4978</td>\n",
              "      <td>Доллар США</td>\n",
              "    </tr>\n",
              "    <tr>\n",
              "      <th>4</th>\n",
              "      <td>1</td>\n",
              "      <td>2017-01-14</td>\n",
              "      <td>59.3700</td>\n",
              "      <td>Доллар США</td>\n",
              "    </tr>\n",
              "  </tbody>\n",
              "</table>\n",
              "</div>"
            ],
            "text/plain": [
              "   nominal       data     curs         cdx\n",
              "0        1 2017-01-10  59.8961  Доллар США\n",
              "1        1 2017-01-11  59.9533  Доллар США\n",
              "2        1 2017-01-12  60.1614  Доллар США\n",
              "3        1 2017-01-13  59.4978  Доллар США\n",
              "4        1 2017-01-14  59.3700  Доллар США"
            ]
          },
          "metadata": {
            "tags": []
          },
          "execution_count": 3
        }
      ]
    },
    {
      "cell_type": "code",
      "metadata": {
        "id": "JH1PBJCjJPKb",
        "outputId": "8f81358d-fdd2-4d8c-c7ef-e6cfa2116ff4",
        "colab": {
          "base_uri": "https://localhost:8080/",
          "height": 282
        }
      },
      "source": [
        "rates.curs.plot()"
      ],
      "execution_count": 4,
      "outputs": [
        {
          "output_type": "execute_result",
          "data": {
            "text/plain": [
              "<matplotlib.axes._subplots.AxesSubplot at 0x7f05abf9aac8>"
            ]
          },
          "metadata": {
            "tags": []
          },
          "execution_count": 4
        },
        {
          "output_type": "display_data",
          "data": {
            "image/png": "[encoded data removed]",
            "text/plain": [
              "<Figure size 432x288 with 1 Axes>"
            ]
          },
          "metadata": {
            "tags": [],
            "needs_background": "light"
          }
        }
      ]
    },
    {
      "cell_type": "code",
      "metadata": {
        "id": "crmaLgjtJPKg"
      },
      "source": [
        "# Спрогнозировать курс на 7 дней"
      ],
      "execution_count": null,
      "outputs": []
    },
    {
      "cell_type": "code",
      "metadata": {
        "id": "yypaFFNEJPKk"
      },
      "source": [
        "# взять за 28 дней назад => спрогнозировать на 7 дней вперед"
      ],
      "execution_count": null,
      "outputs": []
    },
    {
      "cell_type": "markdown",
      "metadata": {
        "id": "5nWxFOxNJPKo"
      },
      "source": [
        "По выдвинутой гипотезе в начале исследования, качество модели напрямую зависит от количества дней прогноза(future) и количества дней, данных для примера(past). Чем меньше дней надо предсказать, и чем больше дней дано для примера, тем точнее будет модель. Кроме того, в каждом частном методе погрешность будет зависеть от индивидуальных параметров, свойственных данному методу. "
      ]
    },
    {
      "cell_type": "code",
      "metadata": {
        "id": "Tm-_kbqyJPKp"
      },
      "source": [
        "past = 112 #(изначально 28) \n",
        "future = 7 #(изначально 7)"
      ],
      "execution_count": null,
      "outputs": []
    },
    {
      "cell_type": "code",
      "metadata": {
        "id": "laorA94NJPKu"
      },
      "source": [
        "start = past # Начинаем рассмотрение с 28ого дня\n",
        "end = len(rates.curs) - future # Заканчиваем рассмотрение на 7 дне с конца"
      ],
      "execution_count": null,
      "outputs": []
    },
    {
      "cell_type": "code",
      "metadata": {
        "id": "Pv7YFrYfJPKy",
        "outputId": "4bb9c438-7837-4883-8a89-59bb17491e8f"
      },
      "source": [
        "end-start"
      ],
      "execution_count": null,
      "outputs": [
        {
          "output_type": "execute_result",
          "data": {
            "text/plain": [
              "722"
            ]
          },
          "metadata": {
            "tags": []
          },
          "execution_count": 183
        }
      ]
    },
    {
      "cell_type": "code",
      "metadata": {
        "id": "XxeCsCouJPK2"
      },
      "source": [
        "dataframe = []\n",
        "for day in range(start, end):\n",
        "    past_data = list(rates.curs[(day-past):day]) # 28 чисел\n",
        "    future_data = list(rates.curs[day:day+future]) # 7 чисел\n",
        "    dataframe.append(past_data+future_data)\n",
        "    # Взять 28 дней в прошлом\n",
        "    # Взять 7 дней в будущем\n",
        "    # все это сложить в одну таблицу в удобном (для модели) виде\n",
        "    "
      ],
      "execution_count": null,
      "outputs": []
    },
    {
      "cell_type": "code",
      "metadata": {
        "id": "KyO5trcpJPK6"
      },
      "source": [
        "past_columns = []\n",
        "for i in range(past):\n",
        "    past_columns.append(f\"past_{i}\")"
      ],
      "execution_count": null,
      "outputs": []
    },
    {
      "cell_type": "code",
      "metadata": {
        "id": "-jtVsvzYJPK_"
      },
      "source": [
        "future_columns = []\n",
        "for i in range(future):\n",
        "    future_columns.append(f\"future_{i}\")"
      ],
      "execution_count": null,
      "outputs": []
    },
    {
      "cell_type": "code",
      "metadata": {
        "id": "xBQZVYsLJPLD"
      },
      "source": [
        "usd = pandas.DataFrame(dataframe, columns=past_columns+future_columns)"
      ],
      "execution_count": null,
      "outputs": []
    },
    {
      "cell_type": "code",
      "metadata": {
        "id": "Aa5GF75UJPLG"
      },
      "source": [
        "X = usd[past_columns] # Входные данные, ТО на основе чего мы пытаемся сделать прогноз\n",
        "Y = usd[future_columns] # Выходные данные, ТО что мы пытаемся спрогнозировать"
      ],
      "execution_count": null,
      "outputs": []
    },
    {
      "cell_type": "code",
      "metadata": {
        "id": "4uV3mqsUJPLK"
      },
      "source": [
        "# Тренировочная выборка, это та, на которой мы тренируем модель, \"УЧЕБНИК\"\n",
        "X_train = X[:-10] # \"Задачи Учебника\"\n",
        "Y_train = Y[:-10] # \"Ответы на задачи учебника\""
      ],
      "execution_count": null,
      "outputs": []
    },
    {
      "cell_type": "code",
      "metadata": {
        "id": "3D6ng55BJPLO"
      },
      "source": [
        "# Тестовая (проверочная) выборка, это та на который мы проверим качество обучения модели, \"Экзамен\"\n",
        "X_test = X[-10:] # Задачи экзамена\n",
        "Y_test = Y[-10:] # Ответы на задчи экзамена"
      ],
      "execution_count": null,
      "outputs": []
    },
    {
      "cell_type": "code",
      "metadata": {
        "id": "Vu4_cLvyJPLS"
      },
      "source": [
        "from sklearn.linear_model import LinearRegression"
      ],
      "execution_count": null,
      "outputs": []
    },
    {
      "cell_type": "code",
      "metadata": {
        "id": "mdRo_C3lJPLV"
      },
      "source": [
        "linreg = LinearRegression() # Создается объект модели"
      ],
      "execution_count": null,
      "outputs": []
    },
    {
      "cell_type": "code",
      "metadata": {
        "id": "ZIOdOyhjJPLZ",
        "outputId": "53667ff1-12be-4e3f-de2c-eced1f461dbe"
      },
      "source": [
        "linreg.fit(X_train, Y_train)"
      ],
      "execution_count": null,
      "outputs": [
        {
          "output_type": "execute_result",
          "data": {
            "text/plain": [
              "LinearRegression(copy_X=True, fit_intercept=True, n_jobs=None, normalize=False)"
            ]
          },
          "metadata": {
            "tags": []
          },
          "execution_count": 193
        }
      ]
    },
    {
      "cell_type": "code",
      "metadata": {
        "id": "xf4VDXagJPLd",
        "outputId": "3a85d0a4-330c-4a85-a6f2-340f27cf4164"
      },
      "source": [
        "X_test"
      ],
      "execution_count": null,
      "outputs": [
        {
          "output_type": "execute_result",
          "data": {
            "text/html": [
              "<div>\n",
              "<style scoped>\n",
              "    .dataframe tbody tr th:only-of-type {\n",
              "        vertical-align: middle;\n",
              "    }\n",
              "\n",
              "    .dataframe tbody tr th {\n",
              "        vertical-align: top;\n",
              "    }\n",
              "\n",
              "    .dataframe thead th {\n",
              "        text-align: right;\n",
              "    }\n",
              "</style>\n",
              "<table border=\"1\" class=\"dataframe\">\n",
              "  <thead>\n",
              "    <tr style=\"text-align: right;\">\n",
              "      <th></th>\n",
              "      <th>past_0</th>\n",
              "      <th>past_1</th>\n",
              "      <th>past_2</th>\n",
              "      <th>past_3</th>\n",
              "      <th>past_4</th>\n",
              "      <th>past_5</th>\n",
              "      <th>past_6</th>\n",
              "      <th>past_7</th>\n",
              "      <th>past_8</th>\n",
              "      <th>past_9</th>\n",
              "      <th>...</th>\n",
              "      <th>past_102</th>\n",
              "      <th>past_103</th>\n",
              "      <th>past_104</th>\n",
              "      <th>past_105</th>\n",
              "      <th>past_106</th>\n",
              "      <th>past_107</th>\n",
              "      <th>past_108</th>\n",
              "      <th>past_109</th>\n",
              "      <th>past_110</th>\n",
              "      <th>past_111</th>\n",
              "    </tr>\n",
              "  </thead>\n",
              "  <tbody>\n",
              "    <tr>\n",
              "      <th>712</th>\n",
              "      <td>63.8430</td>\n",
              "      <td>63.7101</td>\n",
              "      <td>63.7637</td>\n",
              "      <td>64.0239</td>\n",
              "      <td>63.9722</td>\n",
              "      <td>64.1005</td>\n",
              "      <td>64.0817</td>\n",
              "      <td>64.4097</td>\n",
              "      <td>64.1401</td>\n",
              "      <td>64.1948</td>\n",
              "      <td>...</td>\n",
              "      <td>72.7263</td>\n",
              "      <td>73.9719</td>\n",
              "      <td>74.1169</td>\n",
              "      <td>73.8725</td>\n",
              "      <td>73.4326</td>\n",
              "      <td>73.5819</td>\n",
              "      <td>73.9298</td>\n",
              "      <td>73.2056</td>\n",
              "      <td>72.9798</td>\n",
              "      <td>72.3918</td>\n",
              "    </tr>\n",
              "    <tr>\n",
              "      <th>713</th>\n",
              "      <td>63.7101</td>\n",
              "      <td>63.7637</td>\n",
              "      <td>64.0239</td>\n",
              "      <td>63.9722</td>\n",
              "      <td>64.1005</td>\n",
              "      <td>64.0817</td>\n",
              "      <td>64.4097</td>\n",
              "      <td>64.1401</td>\n",
              "      <td>64.1948</td>\n",
              "      <td>63.8135</td>\n",
              "      <td>...</td>\n",
              "      <td>73.9719</td>\n",
              "      <td>74.1169</td>\n",
              "      <td>73.8725</td>\n",
              "      <td>73.4326</td>\n",
              "      <td>73.5819</td>\n",
              "      <td>73.9298</td>\n",
              "      <td>73.2056</td>\n",
              "      <td>72.9798</td>\n",
              "      <td>72.3918</td>\n",
              "      <td>72.3381</td>\n",
              "    </tr>\n",
              "    <tr>\n",
              "      <th>714</th>\n",
              "      <td>63.7637</td>\n",
              "      <td>64.0239</td>\n",
              "      <td>63.9722</td>\n",
              "      <td>64.1005</td>\n",
              "      <td>64.0817</td>\n",
              "      <td>64.4097</td>\n",
              "      <td>64.1401</td>\n",
              "      <td>64.1948</td>\n",
              "      <td>63.8135</td>\n",
              "      <td>63.7185</td>\n",
              "      <td>...</td>\n",
              "      <td>74.1169</td>\n",
              "      <td>73.8725</td>\n",
              "      <td>73.4326</td>\n",
              "      <td>73.5819</td>\n",
              "      <td>73.9298</td>\n",
              "      <td>73.2056</td>\n",
              "      <td>72.9798</td>\n",
              "      <td>72.3918</td>\n",
              "      <td>72.3381</td>\n",
              "      <td>70.9240</td>\n",
              "    </tr>\n",
              "    <tr>\n",
              "      <th>715</th>\n",
              "      <td>64.0239</td>\n",
              "      <td>63.9722</td>\n",
              "      <td>64.1005</td>\n",
              "      <td>64.0817</td>\n",
              "      <td>64.4097</td>\n",
              "      <td>64.1401</td>\n",
              "      <td>64.1948</td>\n",
              "      <td>63.8135</td>\n",
              "      <td>63.7185</td>\n",
              "      <td>63.7244</td>\n",
              "      <td>...</td>\n",
              "      <td>73.8725</td>\n",
              "      <td>73.4326</td>\n",
              "      <td>73.5819</td>\n",
              "      <td>73.9298</td>\n",
              "      <td>73.2056</td>\n",
              "      <td>72.9798</td>\n",
              "      <td>72.3918</td>\n",
              "      <td>72.3381</td>\n",
              "      <td>70.9240</td>\n",
              "      <td>71.8804</td>\n",
              "    </tr>\n",
              "    <tr>\n",
              "      <th>716</th>\n",
              "      <td>63.9722</td>\n",
              "      <td>64.1005</td>\n",
              "      <td>64.0817</td>\n",
              "      <td>64.4097</td>\n",
              "      <td>64.1401</td>\n",
              "      <td>64.1948</td>\n",
              "      <td>63.8135</td>\n",
              "      <td>63.7185</td>\n",
              "      <td>63.7244</td>\n",
              "      <td>63.5788</td>\n",
              "      <td>...</td>\n",
              "      <td>73.4326</td>\n",
              "      <td>73.5819</td>\n",
              "      <td>73.9298</td>\n",
              "      <td>73.2056</td>\n",
              "      <td>72.9798</td>\n",
              "      <td>72.3918</td>\n",
              "      <td>72.3381</td>\n",
              "      <td>70.9240</td>\n",
              "      <td>71.8804</td>\n",
              "      <td>71.5962</td>\n",
              "    </tr>\n",
              "    <tr>\n",
              "      <th>717</th>\n",
              "      <td>64.1005</td>\n",
              "      <td>64.0817</td>\n",
              "      <td>64.4097</td>\n",
              "      <td>64.1401</td>\n",
              "      <td>64.1948</td>\n",
              "      <td>63.8135</td>\n",
              "      <td>63.7185</td>\n",
              "      <td>63.7244</td>\n",
              "      <td>63.5788</td>\n",
              "      <td>63.5653</td>\n",
              "      <td>...</td>\n",
              "      <td>73.5819</td>\n",
              "      <td>73.9298</td>\n",
              "      <td>73.2056</td>\n",
              "      <td>72.9798</td>\n",
              "      <td>72.3918</td>\n",
              "      <td>72.3381</td>\n",
              "      <td>70.9240</td>\n",
              "      <td>71.8804</td>\n",
              "      <td>71.5962</td>\n",
              "      <td>71.1408</td>\n",
              "    </tr>\n",
              "    <tr>\n",
              "      <th>718</th>\n",
              "      <td>64.0817</td>\n",
              "      <td>64.4097</td>\n",
              "      <td>64.1401</td>\n",
              "      <td>64.1948</td>\n",
              "      <td>63.8135</td>\n",
              "      <td>63.7185</td>\n",
              "      <td>63.7244</td>\n",
              "      <td>63.5788</td>\n",
              "      <td>63.5653</td>\n",
              "      <td>63.2257</td>\n",
              "      <td>...</td>\n",
              "      <td>73.9298</td>\n",
              "      <td>73.2056</td>\n",
              "      <td>72.9798</td>\n",
              "      <td>72.3918</td>\n",
              "      <td>72.3381</td>\n",
              "      <td>70.9240</td>\n",
              "      <td>71.8804</td>\n",
              "      <td>71.5962</td>\n",
              "      <td>71.1408</td>\n",
              "      <td>71.0635</td>\n",
              "    </tr>\n",
              "    <tr>\n",
              "      <th>719</th>\n",
              "      <td>64.4097</td>\n",
              "      <td>64.1401</td>\n",
              "      <td>64.1948</td>\n",
              "      <td>63.8135</td>\n",
              "      <td>63.7185</td>\n",
              "      <td>63.7244</td>\n",
              "      <td>63.5788</td>\n",
              "      <td>63.5653</td>\n",
              "      <td>63.2257</td>\n",
              "      <td>62.5544</td>\n",
              "      <td>...</td>\n",
              "      <td>73.2056</td>\n",
              "      <td>72.9798</td>\n",
              "      <td>72.3918</td>\n",
              "      <td>72.3381</td>\n",
              "      <td>70.9240</td>\n",
              "      <td>71.8804</td>\n",
              "      <td>71.5962</td>\n",
              "      <td>71.1408</td>\n",
              "      <td>71.0635</td>\n",
              "      <td>71.1012</td>\n",
              "    </tr>\n",
              "    <tr>\n",
              "      <th>720</th>\n",
              "      <td>64.1401</td>\n",
              "      <td>64.1948</td>\n",
              "      <td>63.8135</td>\n",
              "      <td>63.7185</td>\n",
              "      <td>63.7244</td>\n",
              "      <td>63.5788</td>\n",
              "      <td>63.5653</td>\n",
              "      <td>63.2257</td>\n",
              "      <td>62.5544</td>\n",
              "      <td>62.7686</td>\n",
              "      <td>...</td>\n",
              "      <td>72.9798</td>\n",
              "      <td>72.3918</td>\n",
              "      <td>72.3381</td>\n",
              "      <td>70.9240</td>\n",
              "      <td>71.8804</td>\n",
              "      <td>71.5962</td>\n",
              "      <td>71.1408</td>\n",
              "      <td>71.0635</td>\n",
              "      <td>71.1012</td>\n",
              "      <td>70.7520</td>\n",
              "    </tr>\n",
              "    <tr>\n",
              "      <th>721</th>\n",
              "      <td>64.1948</td>\n",
              "      <td>63.8135</td>\n",
              "      <td>63.7185</td>\n",
              "      <td>63.7244</td>\n",
              "      <td>63.5788</td>\n",
              "      <td>63.5653</td>\n",
              "      <td>63.2257</td>\n",
              "      <td>62.5544</td>\n",
              "      <td>62.7686</td>\n",
              "      <td>62.5326</td>\n",
              "      <td>...</td>\n",
              "      <td>72.3918</td>\n",
              "      <td>72.3381</td>\n",
              "      <td>70.9240</td>\n",
              "      <td>71.8804</td>\n",
              "      <td>71.5962</td>\n",
              "      <td>71.1408</td>\n",
              "      <td>71.0635</td>\n",
              "      <td>71.1012</td>\n",
              "      <td>70.7520</td>\n",
              "      <td>69.7114</td>\n",
              "    </tr>\n",
              "  </tbody>\n",
              "</table>\n",
              "<p>10 rows × 112 columns</p>\n",
              "</div>"
            ],
            "text/plain": [
              "      past_0   past_1   past_2   past_3   past_4   past_5   past_6   past_7  \\\n",
              "712  63.8430  63.7101  63.7637  64.0239  63.9722  64.1005  64.0817  64.4097   \n",
              "713  63.7101  63.7637  64.0239  63.9722  64.1005  64.0817  64.4097  64.1401   \n",
              "714  63.7637  64.0239  63.9722  64.1005  64.0817  64.4097  64.1401  64.1948   \n",
              "715  64.0239  63.9722  64.1005  64.0817  64.4097  64.1401  64.1948  63.8135   \n",
              "716  63.9722  64.1005  64.0817  64.4097  64.1401  64.1948  63.8135  63.7185   \n",
              "717  64.1005  64.0817  64.4097  64.1401  64.1948  63.8135  63.7185  63.7244   \n",
              "718  64.0817  64.4097  64.1401  64.1948  63.8135  63.7185  63.7244  63.5788   \n",
              "719  64.4097  64.1401  64.1948  63.8135  63.7185  63.7244  63.5788  63.5653   \n",
              "720  64.1401  64.1948  63.8135  63.7185  63.7244  63.5788  63.5653  63.2257   \n",
              "721  64.1948  63.8135  63.7185  63.7244  63.5788  63.5653  63.2257  62.5544   \n",
              "\n",
              "      past_8   past_9  ...  past_102  past_103  past_104  past_105  past_106  \\\n",
              "712  64.1401  64.1948  ...   72.7263   73.9719   74.1169   73.8725   73.4326   \n",
              "713  64.1948  63.8135  ...   73.9719   74.1169   73.8725   73.4326   73.5819   \n",
              "714  63.8135  63.7185  ...   74.1169   73.8725   73.4326   73.5819   73.9298   \n",
              "715  63.7185  63.7244  ...   73.8725   73.4326   73.5819   73.9298   73.2056   \n",
              "716  63.7244  63.5788  ...   73.4326   73.5819   73.9298   73.2056   72.9798   \n",
              "717  63.5788  63.5653  ...   73.5819   73.9298   73.2056   72.9798   72.3918   \n",
              "718  63.5653  63.2257  ...   73.9298   73.2056   72.9798   72.3918   72.3381   \n",
              "719  63.2257  62.5544  ...   73.2056   72.9798   72.3918   72.3381   70.9240   \n",
              "720  62.5544  62.7686  ...   72.9798   72.3918   72.3381   70.9240   71.8804   \n",
              "721  62.7686  62.5326  ...   72.3918   72.3381   70.9240   71.8804   71.5962   \n",
              "\n",
              "     past_107  past_108  past_109  past_110  past_111  \n",
              "712   73.5819   73.9298   73.2056   72.9798   72.3918  \n",
              "713   73.9298   73.2056   72.9798   72.3918   72.3381  \n",
              "714   73.2056   72.9798   72.3918   72.3381   70.9240  \n",
              "715   72.9798   72.3918   72.3381   70.9240   71.8804  \n",
              "716   72.3918   72.3381   70.9240   71.8804   71.5962  \n",
              "717   72.3381   70.9240   71.8804   71.5962   71.1408  \n",
              "718   70.9240   71.8804   71.5962   71.1408   71.0635  \n",
              "719   71.8804   71.5962   71.1408   71.0635   71.1012  \n",
              "720   71.5962   71.1408   71.0635   71.1012   70.7520  \n",
              "721   71.1408   71.0635   71.1012   70.7520   69.7114  \n",
              "\n",
              "[10 rows x 112 columns]"
            ]
          },
          "metadata": {
            "tags": []
          },
          "execution_count": 194
        }
      ]
    },
    {
      "cell_type": "code",
      "metadata": {
        "id": "zlioLoC3JPLi"
      },
      "source": [
        "firstDay = X_test.head(1)"
      ],
      "execution_count": null,
      "outputs": []
    },
    {
      "cell_type": "code",
      "metadata": {
        "id": "Btvo9-hEJPLn"
      },
      "source": [
        "firstDayReal = Y_test.head(1)"
      ],
      "execution_count": null,
      "outputs": []
    },
    {
      "cell_type": "code",
      "metadata": {
        "id": "C0qfwrWDJPLr",
        "outputId": "0e41af73-bedf-41a4-9d04-5d8c98590514"
      },
      "source": [
        "firstDay"
      ],
      "execution_count": null,
      "outputs": [
        {
          "output_type": "execute_result",
          "data": {
            "text/html": [
              "<div>\n",
              "<style scoped>\n",
              "    .dataframe tbody tr th:only-of-type {\n",
              "        vertical-align: middle;\n",
              "    }\n",
              "\n",
              "    .dataframe tbody tr th {\n",
              "        vertical-align: top;\n",
              "    }\n",
              "\n",
              "    .dataframe thead th {\n",
              "        text-align: right;\n",
              "    }\n",
              "</style>\n",
              "<table border=\"1\" class=\"dataframe\">\n",
              "  <thead>\n",
              "    <tr style=\"text-align: right;\">\n",
              "      <th></th>\n",
              "      <th>past_0</th>\n",
              "      <th>past_1</th>\n",
              "      <th>past_2</th>\n",
              "      <th>past_3</th>\n",
              "      <th>past_4</th>\n",
              "      <th>past_5</th>\n",
              "      <th>past_6</th>\n",
              "      <th>past_7</th>\n",
              "      <th>past_8</th>\n",
              "      <th>past_9</th>\n",
              "      <th>...</th>\n",
              "      <th>past_102</th>\n",
              "      <th>past_103</th>\n",
              "      <th>past_104</th>\n",
              "      <th>past_105</th>\n",
              "      <th>past_106</th>\n",
              "      <th>past_107</th>\n",
              "      <th>past_108</th>\n",
              "      <th>past_109</th>\n",
              "      <th>past_110</th>\n",
              "      <th>past_111</th>\n",
              "    </tr>\n",
              "  </thead>\n",
              "  <tbody>\n",
              "    <tr>\n",
              "      <th>712</th>\n",
              "      <td>63.843</td>\n",
              "      <td>63.7101</td>\n",
              "      <td>63.7637</td>\n",
              "      <td>64.0239</td>\n",
              "      <td>63.9722</td>\n",
              "      <td>64.1005</td>\n",
              "      <td>64.0817</td>\n",
              "      <td>64.4097</td>\n",
              "      <td>64.1401</td>\n",
              "      <td>64.1948</td>\n",
              "      <td>...</td>\n",
              "      <td>72.7263</td>\n",
              "      <td>73.9719</td>\n",
              "      <td>74.1169</td>\n",
              "      <td>73.8725</td>\n",
              "      <td>73.4326</td>\n",
              "      <td>73.5819</td>\n",
              "      <td>73.9298</td>\n",
              "      <td>73.2056</td>\n",
              "      <td>72.9798</td>\n",
              "      <td>72.3918</td>\n",
              "    </tr>\n",
              "  </tbody>\n",
              "</table>\n",
              "<p>1 rows × 112 columns</p>\n",
              "</div>"
            ],
            "text/plain": [
              "     past_0   past_1   past_2   past_3   past_4   past_5   past_6   past_7  \\\n",
              "712  63.843  63.7101  63.7637  64.0239  63.9722  64.1005  64.0817  64.4097   \n",
              "\n",
              "      past_8   past_9  ...  past_102  past_103  past_104  past_105  past_106  \\\n",
              "712  64.1401  64.1948  ...   72.7263   73.9719   74.1169   73.8725   73.4326   \n",
              "\n",
              "     past_107  past_108  past_109  past_110  past_111  \n",
              "712   73.5819   73.9298   73.2056   72.9798   72.3918  \n",
              "\n",
              "[1 rows x 112 columns]"
            ]
          },
          "metadata": {
            "tags": []
          },
          "execution_count": 197
        }
      ]
    },
    {
      "cell_type": "code",
      "metadata": {
        "id": "ovOvRm4HJPLu"
      },
      "source": [
        "prediction = linreg.predict(firstDay)"
      ],
      "execution_count": null,
      "outputs": []
    },
    {
      "cell_type": "code",
      "metadata": {
        "id": "7v2y1fbXJPLz",
        "outputId": "92da4e2d-ea50-4024-9730-4b2827121424"
      },
      "source": [
        "prediction"
      ],
      "execution_count": null,
      "outputs": [
        {
          "output_type": "execute_result",
          "data": {
            "text/plain": [
              "array([[72.80495585, 72.5570674 , 72.29748378, 72.02754893, 71.5245962 ,\n",
              "        71.23204968, 70.13530695]])"
            ]
          },
          "metadata": {
            "tags": []
          },
          "execution_count": 199
        }
      ]
    },
    {
      "cell_type": "code",
      "metadata": {
        "id": "aak0ewFpJPL3",
        "outputId": "f9cc3ac4-216b-4543-8b1d-49bedd93eba2"
      },
      "source": [
        "firstDayReal"
      ],
      "execution_count": null,
      "outputs": [
        {
          "output_type": "execute_result",
          "data": {
            "text/html": [
              "<div>\n",
              "<style scoped>\n",
              "    .dataframe tbody tr th:only-of-type {\n",
              "        vertical-align: middle;\n",
              "    }\n",
              "\n",
              "    .dataframe tbody tr th {\n",
              "        vertical-align: top;\n",
              "    }\n",
              "\n",
              "    .dataframe thead th {\n",
              "        text-align: right;\n",
              "    }\n",
              "</style>\n",
              "<table border=\"1\" class=\"dataframe\">\n",
              "  <thead>\n",
              "    <tr style=\"text-align: right;\">\n",
              "      <th></th>\n",
              "      <th>future_0</th>\n",
              "      <th>future_1</th>\n",
              "      <th>future_2</th>\n",
              "      <th>future_3</th>\n",
              "      <th>future_4</th>\n",
              "      <th>future_5</th>\n",
              "      <th>future_6</th>\n",
              "    </tr>\n",
              "  </thead>\n",
              "  <tbody>\n",
              "    <tr>\n",
              "      <th>712</th>\n",
              "      <td>72.3381</td>\n",
              "      <td>70.924</td>\n",
              "      <td>71.8804</td>\n",
              "      <td>71.5962</td>\n",
              "      <td>71.1408</td>\n",
              "      <td>71.0635</td>\n",
              "      <td>71.1012</td>\n",
              "    </tr>\n",
              "  </tbody>\n",
              "</table>\n",
              "</div>"
            ],
            "text/plain": [
              "     future_0  future_1  future_2  future_3  future_4  future_5  future_6\n",
              "712   72.3381    70.924   71.8804   71.5962   71.1408   71.0635   71.1012"
            ]
          },
          "metadata": {
            "tags": []
          },
          "execution_count": 200
        }
      ]
    },
    {
      "cell_type": "code",
      "metadata": {
        "id": "XCZtUOP-JPL6"
      },
      "source": [
        "from sklearn.metrics import mean_absolute_error"
      ],
      "execution_count": null,
      "outputs": []
    },
    {
      "cell_type": "code",
      "metadata": {
        "id": "Jh4_Tf62JPL-",
        "outputId": "91e1a582-ef85-4901-bf0f-b93491ac5cd8"
      },
      "source": [
        "mean_absolute_error(prediction[0], firstDayReal.iloc[0])"
      ],
      "execution_count": null,
      "outputs": [
        {
          "output_type": "execute_result",
          "data": {
            "text/plain": [
              "0.6380849864752106"
            ]
          },
          "metadata": {
            "tags": []
          },
          "execution_count": 202
        }
      ]
    },
    {
      "cell_type": "code",
      "metadata": {
        "id": "Jvadekh2JPMC"
      },
      "source": [
        "import matplotlib.pyplot as plt"
      ],
      "execution_count": null,
      "outputs": []
    },
    {
      "cell_type": "code",
      "metadata": {
        "id": "fCeMiSWIJPMF",
        "outputId": "a9a21939-c46d-4a96-a829-4195910f8bfd"
      },
      "source": [
        "plt.plot(prediction[0], label=\"Prediction\")\n",
        "plt.plot(firstDayReal.iloc[0], label=\"Real\")\n",
        "plt.legend()"
      ],
      "execution_count": null,
      "outputs": [
        {
          "output_type": "execute_result",
          "data": {
            "text/plain": [
              "<matplotlib.legend.Legend at 0x2750bb17c88>"
            ]
          },
          "metadata": {
            "tags": []
          },
          "execution_count": 204
        },
        {
          "output_type": "display_data",
          "data": {
            "image/png": "[encoded data removed]",
            "text/plain": [
              "<Figure size 432x288 with 1 Axes>"
            ]
          },
          "metadata": {
            "tags": [],
            "needs_background": "light"
          }
        }
      ]
    },
    {
      "cell_type": "code",
      "metadata": {
        "id": "jmv1nN1tJPMJ",
        "outputId": "608bdfc8-5067-47e6-cf92-4ab8ffa0dade"
      },
      "source": [
        "prediction = linreg.predict([X_test.iloc[1]])\n",
        "real = Y_test.iloc[1]\n",
        "mae = mean_absolute_error(prediction[0], real)\n",
        "print(f\"MAE = {mae}\")\n",
        "plt.plot(prediction[0], label=\"Prediction\")\n",
        "plt.plot(real, label=\"Real\")\n",
        "plt.legend()"
      ],
      "execution_count": null,
      "outputs": [
        {
          "output_type": "stream",
          "text": [
            "MAE = 0.6712452055346299\n"
          ],
          "name": "stdout"
        },
        {
          "output_type": "execute_result",
          "data": {
            "text/plain": [
              "<matplotlib.legend.Legend at 0x2750bb8e908>"
            ]
          },
          "metadata": {
            "tags": []
          },
          "execution_count": 205
        },
        {
          "output_type": "display_data",
          "data": {
            "image/png": "[encoded data removed]",
            "text/plain": [
              "<Figure size 432x288 with 1 Axes>"
            ]
          },
          "metadata": {
            "tags": [],
            "needs_background": "light"
          }
        }
      ]
    },
    {
      "cell_type": "code",
      "metadata": {
        "id": "cwlS99EpJPMN"
      },
      "source": [
        "from sklearn.neighbors import KNeighborsRegressor"
      ],
      "execution_count": null,
      "outputs": []
    },
    {
      "cell_type": "code",
      "metadata": {
        "id": "S1eW9nt-JPMQ",
        "outputId": "ee68056b-7252-432c-c80a-5dc12c89856e"
      },
      "source": [
        "knn = KNeighborsRegressor(n_neighbors=2)\n",
        "knn.fit(X_train, Y_train)"
      ],
      "execution_count": null,
      "outputs": [
        {
          "output_type": "execute_result",
          "data": {
            "text/plain": [
              "KNeighborsRegressor(algorithm='auto', leaf_size=30, metric='minkowski',\n",
              "                    metric_params=None, n_jobs=None, n_neighbors=2, p=2,\n",
              "                    weights='uniform')"
            ]
          },
          "metadata": {
            "tags": []
          },
          "execution_count": 207
        }
      ]
    },
    {
      "cell_type": "code",
      "metadata": {
        "id": "3u1TXQdYJPMU",
        "outputId": "b8babc16-00bf-417a-f04f-88a24a57e8d5"
      },
      "source": [
        "prediction = knn.predict([X_test.iloc[0]])\n",
        "real = Y_test.iloc[0]\n",
        "mae = mean_absolute_error(prediction[0], real)\n",
        "print(f\"MAE = {mae}\")\n",
        "plt.plot(prediction[0], label=\"Prediction\")\n",
        "plt.plot(real, label=\"Real\")\n",
        "plt.legend()"
      ],
      "execution_count": null,
      "outputs": [
        {
          "output_type": "stream",
          "text": [
            "MAE = 0.4479214285714233\n"
          ],
          "name": "stdout"
        },
        {
          "output_type": "execute_result",
          "data": {
            "text/plain": [
              "<matplotlib.legend.Legend at 0x2750bbfda08>"
            ]
          },
          "metadata": {
            "tags": []
          },
          "execution_count": 208
        },
        {
          "output_type": "display_data",
          "data": {
            "image/png": "[encoded data removed]",
            "text/plain": [
              "<Figure size 432x288 with 1 Axes>"
            ]
          },
          "metadata": {
            "tags": [],
            "needs_background": "light"
          }
        }
      ]
    },
    {
      "cell_type": "code",
      "metadata": {
        "id": "7ND8K3VzJPMX"
      },
      "source": [
        "from sklearn.neural_network import MLPRegressor"
      ],
      "execution_count": null,
      "outputs": []
    },
    {
      "cell_type": "markdown",
      "metadata": {
        "id": "7-LAdvGyJPMa"
      },
      "source": [
        "Изначально предполагалось что качество работы модели MLPRegressor, напрямую зависит от количества итераций (перменная max_iter)и от количества слоев и нейронов в \n",
        "них(hidden_layer_sizes), предполагалось что увеличение количества итераций, равно как и увеличение количества слоев и нейронов в них, окажет положительное влияние на точность \n",
        "регрессии(коэффициент MAE)."
      ]
    },
    {
      "cell_type": "code",
      "metadata": {
        "id": "V2a7cevLJPMd"
      },
      "source": [
        "mlp = MLPRegressor(max_iter=3000, hidden_layer_sizes=(300,300,300), random_state=42)"
      ],
      "execution_count": null,
      "outputs": []
    },
    {
      "cell_type": "markdown",
      "metadata": {
        "id": "geZqfpvYJPMh"
      },
      "source": [
        "При значениях past = 40, future = 2 и при значениях модели MLPRegressor(max_iter=1200, hidden_layer_sizes=(150,150,150), random_state=42)было получено максимальное значение MAE = 0.11181836835714876. В ходе эксперимента было установлено, что качество в большей мере зависит от параметра от future, чем меньшее количество дней необходимо предсказать модели, тем точнее она это делает, также важен параметр past, количество дней на основе которого система делает прогноз. Желательно, чтобы данный показатель был около 40, поскольку мной было установлено что в противном случае качество модели будет хуже(например при past = 60, future = 2, значение  MAE = 0.16615500863770194)."
      ]
    },
    {
      "cell_type": "markdown",
      "metadata": {
        "id": "QzicBqb4JPMh"
      },
      "source": [
        "При значениях past = 56, future = 7(в задании не было четко сказано, нужно сделать прогноз на 7 дней или на любое количество, при котором будет низкая погрешность поэтому я учел оба варианта) и при значениях модели MLPRegressor(max_iter=3000, hidden_layer_sizes=(300,300,300), random_state=42)было получено минимальное значение MAE = 0.6886939592446453. \n"
      ]
    },
    {
      "cell_type": "markdown",
      "metadata": {
        "id": "tbvPfPhBJPMi"
      },
      "source": [
        "Было экспериментальным образом установлено, что переменная past влияет положительно на точность модели, причем ее влияние значительней, чем влияние таких параметров модели MLPRegressor, как количество итераций (перменная max_iter) и от количества слоев и нейронов в них(hidden_layer_sizes). Если данные параметры находятся в обычных значениях или привышают их позитивное влияние практически незаметно, а если сильно ниже изначально установленных, то сразу становится очевидным сильное негативное влияние на точность всей модели. Кроме того, в результате опытов была выдвинута гипотеза, если переменная past кратна переменной future (в данном примере future=7) то точность модели значительно выше. Например, при параметрах  past = 110, future = 7 , max_iter=3000, hidden_layer_sizes=(300,300,300), random_state=42 точность получилась модели получилась MAE = 0.8752510227845879, а при параметрах past = 112, future = 7, max_iter=3000, hidden_layer_sizes=(300,300,300), random_state=42,  точность получилась модели получилась значильно выше MAE = 0.22645176866183597.\n"
      ]
    },
    {
      "cell_type": "code",
      "metadata": {
        "id": "gaB7kcR-JPMj",
        "outputId": "b183088c-eac5-4b4b-b5bf-e5a9663ad399"
      },
      "source": [
        "mlp.fit(X_train, Y_train)"
      ],
      "execution_count": null,
      "outputs": [
        {
          "output_type": "execute_result",
          "data": {
            "text/plain": [
              "MLPRegressor(activation='relu', alpha=0.0001, batch_size='auto', beta_1=0.9,\n",
              "             beta_2=0.999, early_stopping=False, epsilon=1e-08,\n",
              "             hidden_layer_sizes=(300, 300, 300), learning_rate='constant',\n",
              "             learning_rate_init=0.001, max_fun=15000, max_iter=3000,\n",
              "             momentum=0.9, n_iter_no_change=10, nesterovs_momentum=True,\n",
              "             power_t=0.5, random_state=42, shuffle=True, solver='adam',\n",
              "             tol=0.0001, validation_fraction=0.1, verbose=False,\n",
              "             warm_start=False)"
            ]
          },
          "metadata": {
            "tags": []
          },
          "execution_count": 212
        }
      ]
    },
    {
      "cell_type": "code",
      "metadata": {
        "scrolled": true,
        "id": "9BDQduZLJPMm",
        "outputId": "40e7836a-38fc-493b-e4fd-a5cdbf235762"
      },
      "source": [
        "prediction = mlp.predict([X_test.iloc[0]])\n",
        "real = Y_test.iloc[0]\n",
        "mae = mean_absolute_error(prediction[0], real)\n",
        "print(f\"MAE = {mae}\")\n",
        "plt.plot(prediction[0], label=\"Prediction\")\n",
        "plt.plot(real, label=\"Reality\")\n",
        "plt.legend()"
      ],
      "execution_count": null,
      "outputs": [
        {
          "output_type": "stream",
          "text": [
            "MAE = 0.22645176866183597\n"
          ],
          "name": "stdout"
        },
        {
          "output_type": "execute_result",
          "data": {
            "text/plain": [
              "<matplotlib.legend.Legend at 0x27511722e88>"
            ]
          },
          "metadata": {
            "tags": []
          },
          "execution_count": 353
        },
        {
          "output_type": "display_data",
          "data": {
            "image/png": "[encoded data removed]",
            "text/plain": [
              "<Figure size 640x480 with 1 Axes>"
            ]
          },
          "metadata": {
            "tags": []
          }
        }
      ]
    },
    {
      "cell_type": "code",
      "metadata": {
        "id": "02ojw5JuJPMq",
        "outputId": "54cdc7f8-bb47-4431-ffca-985a8aa41382"
      },
      "source": [
        "1.77/2"
      ],
      "execution_count": null,
      "outputs": [
        {
          "output_type": "execute_result",
          "data": {
            "text/plain": [
              "0.885"
            ]
          },
          "metadata": {
            "tags": []
          },
          "execution_count": 76
        }
      ]
    },
    {
      "cell_type": "code",
      "metadata": {
        "id": "UlXgvOPZJPMy"
      },
      "source": [
        "import numpy as np\n",
        "from sklearn.datasets import load_linnerud\n",
        "from sklearn.multioutput import MultiOutputRegressor\n",
        "from sklearn.linear_model import Ridge"
      ],
      "execution_count": null,
      "outputs": []
    },
    {
      "cell_type": "code",
      "metadata": {
        "id": "1vNIHRJ-JPM1"
      },
      "source": [
        "mor = MultiOutputRegressor(Ridge(max_iter=3000, normalize=True, random_state=42))# Создаем регрессор с заданными параметрами random_state=54, max_iter=3000\n",
        "#, normalize=True для единообразия всех моделей."
      ],
      "execution_count": null,
      "outputs": []
    },
    {
      "cell_type": "code",
      "metadata": {
        "id": "72mohMrqJPM6",
        "outputId": "299437ef-fee3-4f3a-bcb6-e3b617f950fd"
      },
      "source": [
        "mor.fit(X_train, Y_train)"
      ],
      "execution_count": null,
      "outputs": [
        {
          "output_type": "execute_result",
          "data": {
            "text/plain": [
              "MultiOutputRegressor(estimator=Ridge(alpha=1.0, copy_X=True, fit_intercept=True,\n",
              "                                     max_iter=3000, normalize=True,\n",
              "                                     random_state=42, solver='auto',\n",
              "                                     tol=0.001),\n",
              "                     n_jobs=None)"
            ]
          },
          "metadata": {
            "tags": []
          },
          "execution_count": 251
        }
      ]
    },
    {
      "cell_type": "code",
      "metadata": {
        "id": "6125p724JPM9",
        "outputId": "035f5b6e-8f61-400b-a842-b87325315297"
      },
      "source": [
        "prediction = mor.predict([X_test.iloc[0]])\n",
        "real = Y_test.iloc[0]\n",
        "mae = mean_absolute_error(prediction[0], real)\n",
        "print(f\"MAE = {mae}\")\n",
        "plt.plot(prediction[0], label=\"Prediction\")\n",
        "plt.plot(real, label=\"Reality\")\n",
        "plt.legend()"
      ],
      "execution_count": null,
      "outputs": [
        {
          "output_type": "stream",
          "text": [
            "MAE = 0.590274523365896\n"
          ],
          "name": "stdout"
        },
        {
          "output_type": "execute_result",
          "data": {
            "text/plain": [
              "<matplotlib.legend.Legend at 0x2751197ac88>"
            ]
          },
          "metadata": {
            "tags": []
          },
          "execution_count": 352
        },
        {
          "output_type": "display_data",
          "data": {
            "image/png": "[encoded data removed]",
            "text/plain": [
              "<Figure size 640x480 with 1 Axes>"
            ]
          },
          "metadata": {
            "tags": []
          }
        }
      ]
    },
    {
      "cell_type": "code",
      "metadata": {
        "id": "d-LCayj3JPND"
      },
      "source": [
        "from sklearn import linear_model"
      ],
      "execution_count": null,
      "outputs": []
    },
    {
      "cell_type": "code",
      "metadata": {
        "id": "5c9FvP2wJPNH"
      },
      "source": [
        "lm = linear_model.Ridge(alpha=1, random_state=54, normalize=True, max_iter=3000 ) # Создаем ридж-регрессию  с заданными параметрами random_state=54, max_iter=3000, normalize=True для единообразия всех моделей."
      ],
      "execution_count": null,
      "outputs": []
    },
    {
      "cell_type": "markdown",
      "metadata": {
        "id": "Rur-uNxIJPNK"
      },
      "source": [
        "В ходе эксперимента был сделан вывод, что если выставить нормализацию модели (normalize=True), это уменьшит погрешность модели, это сохраняет актуальность и для других регрессоров. "
      ]
    },
    {
      "cell_type": "code",
      "metadata": {
        "id": "wtwfS4KOJPNK",
        "outputId": "c3c49210-168e-4347-a95e-319b80550246"
      },
      "source": [
        "lm.fit(X_train, Y_train)"
      ],
      "execution_count": null,
      "outputs": [
        {
          "output_type": "execute_result",
          "data": {
            "text/plain": [
              "Ridge(alpha=1, copy_X=True, fit_intercept=True, max_iter=3000, normalize=True,\n",
              "      random_state=54, solver='auto', tol=0.001)"
            ]
          },
          "metadata": {
            "tags": []
          },
          "execution_count": 275
        }
      ]
    },
    {
      "cell_type": "code",
      "metadata": {
        "id": "wGXZ5LnRJPNN",
        "outputId": "7b7ec298-e1ab-4edb-9093-b02d9e145786"
      },
      "source": [
        "prediction = lm.predict([X_test.iloc[0]])\n",
        "real = Y_test.iloc[0]\n",
        "mae = mean_absolute_error(prediction[0], real)\n",
        "print(f\"MAE = {mae}\")\n",
        "plt.plot(prediction[0], label=\"Prediction\")\n",
        "plt.plot(real, label=\"Reality\")\n",
        "plt.legend()"
      ],
      "execution_count": null,
      "outputs": [
        {
          "output_type": "stream",
          "text": [
            "MAE = 0.590274523365898\n"
          ],
          "name": "stdout"
        },
        {
          "output_type": "execute_result",
          "data": {
            "text/plain": [
              "<matplotlib.legend.Legend at 0x275114e3bc8>"
            ]
          },
          "metadata": {
            "tags": []
          },
          "execution_count": 351
        },
        {
          "output_type": "display_data",
          "data": {
            "image/png": "[encoded data removed]",
            "text/plain": [
              "<Figure size 640x480 with 1 Axes>"
            ]
          },
          "metadata": {
            "tags": []
          }
        }
      ]
    },
    {
      "cell_type": "code",
      "metadata": {
        "id": "KGArTdGfJPNQ"
      },
      "source": [
        "from sklearn.datasets import make_friedman2\n",
        "from sklearn.gaussian_process import GaussianProcessRegressor\n",
        "from sklearn.gaussian_process.kernels import DotProduct, WhiteKernel"
      ],
      "execution_count": null,
      "outputs": []
    },
    {
      "cell_type": "code",
      "metadata": {
        "id": "gTexVOS1JPNS"
      },
      "source": [
        ""
      ],
      "execution_count": null,
      "outputs": []
    },
    {
      "cell_type": "code",
      "metadata": {
        "id": "67pq355OJPNX"
      },
      "source": [
        "kernel = DotProduct() + WhiteKernel()\n"
      ],
      "execution_count": null,
      "outputs": []
    },
    {
      "cell_type": "code",
      "metadata": {
        "id": "Ka7i6z89JPNe"
      },
      "source": [
        "gpr = GaussianProcessRegressor(kernel=kernel, random_state=54, normalize_y=True)# Запускаем модель с заданными параметрами random_state=54, normalize=True для единообразия всех моделей."
      ],
      "execution_count": null,
      "outputs": []
    },
    {
      "cell_type": "code",
      "metadata": {
        "id": "P_-7vh36JPNh",
        "outputId": "7493472e-e629-4a9e-9af3-249960e91e83"
      },
      "source": [
        "gpr.fit(X_train, Y_train)"
      ],
      "execution_count": null,
      "outputs": [
        {
          "output_type": "execute_result",
          "data": {
            "text/plain": [
              "GaussianProcessRegressor(alpha=1e-10, copy_X_train=True,\n",
              "                         kernel=DotProduct(sigma_0=1) + WhiteKernel(noise_level=1),\n",
              "                         n_restarts_optimizer=0, normalize_y=True,\n",
              "                         optimizer='fmin_l_bfgs_b', random_state=54)"
            ]
          },
          "metadata": {
            "tags": []
          },
          "execution_count": 271
        }
      ]
    },
    {
      "cell_type": "code",
      "metadata": {
        "id": "MQCjennJJPNl",
        "outputId": "d12c4470-f1ce-492e-ee59-55bd3e48c782"
      },
      "source": [
        "prediction = gpr.predict([X_test.iloc[0]])\n",
        "real = Y_test.iloc[0]\n",
        "mae = mean_absolute_error(prediction[0], real)\n",
        "print(f\"MAE = {mae}\")\n",
        "plt.plot(prediction[0], label=\"Prediction\")\n",
        "plt.plot(real, label=\"Reality\")\n",
        "plt.legend()"
      ],
      "execution_count": null,
      "outputs": [
        {
          "output_type": "stream",
          "text": [
            "MAE = 0.6157306007362605\n"
          ],
          "name": "stdout"
        },
        {
          "output_type": "execute_result",
          "data": {
            "text/plain": [
              "<matplotlib.legend.Legend at 0x27511471e88>"
            ]
          },
          "metadata": {
            "tags": []
          },
          "execution_count": 350
        },
        {
          "output_type": "display_data",
          "data": {
            "image/png": "[encoded data removed]",
            "text/plain": [
              "<Figure size 640x480 with 1 Axes>"
            ]
          },
          "metadata": {
            "tags": []
          }
        }
      ]
    },
    {
      "cell_type": "markdown",
      "metadata": {
        "id": "J3mlTcP3JPNo"
      },
      "source": [
        "**Выводы:**"
      ]
    },
    {
      "cell_type": "code",
      "metadata": {
        "id": "Rgc83zCuJPNp"
      },
      "source": [
        "mae_info= pandas.read_excel(\"mae.xlsx\",index_col=0)"
      ],
      "execution_count": null,
      "outputs": []
    },
    {
      "cell_type": "code",
      "metadata": {
        "id": "uwifLWmwJPNr",
        "outputId": "5b9136f9-55b3-43c4-bf7f-3ce930621397"
      },
      "source": [
        "mae_info"
      ],
      "execution_count": null,
      "outputs": [
        {
          "output_type": "execute_result",
          "data": {
            "text/html": [
              "<div>\n",
              "<style scoped>\n",
              "    .dataframe tbody tr th:only-of-type {\n",
              "        vertical-align: middle;\n",
              "    }\n",
              "\n",
              "    .dataframe tbody tr th {\n",
              "        vertical-align: top;\n",
              "    }\n",
              "\n",
              "    .dataframe thead th {\n",
              "        text-align: right;\n",
              "    }\n",
              "</style>\n",
              "<table border=\"1\" class=\"dataframe\">\n",
              "  <thead>\n",
              "    <tr style=\"text-align: right;\">\n",
              "      <th></th>\n",
              "      <th>MAE</th>\n",
              "    </tr>\n",
              "    <tr>\n",
              "      <th>Method</th>\n",
              "      <th></th>\n",
              "    </tr>\n",
              "  </thead>\n",
              "  <tbody>\n",
              "    <tr>\n",
              "      <th>MLPRegressor</th>\n",
              "      <td>0.226452</td>\n",
              "    </tr>\n",
              "    <tr>\n",
              "      <th>MultiOutputRegressor</th>\n",
              "      <td>0.590275</td>\n",
              "    </tr>\n",
              "    <tr>\n",
              "      <th>RidgeRegression</th>\n",
              "      <td>0.590275</td>\n",
              "    </tr>\n",
              "    <tr>\n",
              "      <th>GaussianProcessRegressor</th>\n",
              "      <td>0.615731</td>\n",
              "    </tr>\n",
              "    <tr>\n",
              "      <th>KNeighborsRegressor</th>\n",
              "      <td>0.447921</td>\n",
              "    </tr>\n",
              "    <tr>\n",
              "      <th>LinReg</th>\n",
              "      <td>0.671245</td>\n",
              "    </tr>\n",
              "  </tbody>\n",
              "</table>\n",
              "</div>"
            ],
            "text/plain": [
              "                               MAE\n",
              "Method                            \n",
              "MLPRegressor              0.226452\n",
              "MultiOutputRegressor      0.590275\n",
              "RidgeRegression           0.590275\n",
              "GaussianProcessRegressor  0.615731\n",
              "KNeighborsRegressor       0.447921\n",
              "LinReg                    0.671245"
            ]
          },
          "metadata": {
            "tags": []
          },
          "execution_count": 348
        }
      ]
    },
    {
      "cell_type": "code",
      "metadata": {
        "id": "WnR2fJXwJPNu",
        "outputId": "e5f1fea4-8a3d-4e98-c194-d46979a12d52"
      },
      "source": [
        "mae_info.plot(kind=\"bar\")"
      ],
      "execution_count": null,
      "outputs": [
        {
          "output_type": "execute_result",
          "data": {
            "text/plain": [
              "<matplotlib.axes._subplots.AxesSubplot at 0x27511551bc8>"
            ]
          },
          "metadata": {
            "tags": []
          },
          "execution_count": 349
        },
        {
          "output_type": "display_data",
          "data": {
            "image/png": "[encoded data removed]",
            "text/plain": [
              "<Figure size 640x480 with 1 Axes>"
            ]
          },
          "metadata": {
            "tags": []
          }
        }
      ]
    },
    {
      "cell_type": "markdown",
      "metadata": {
        "id": "J07TghRTJPNy"
      },
      "source": [
        "Выдвинутая вначале теория подтвердилась лишь частично, погрешность (MAE) в большей степени зависит от  количества дней, данных для обучения(past) и в меньшей степени зависит от частных параметров каждой отдельной модели, однако некоторые параметры, как например нормализация, в некоторых примерах оказывает положительное влияние на погрешность. В результате опытов была выдвинута теория о том что, если переменная past кратна переменной future (в данном примере future=7) то точность модели будет значительно выше. "
      ]
    },
    {
      "cell_type": "markdown",
      "metadata": {
        "id": "yoTYaaHCJPNy"
      },
      "source": [
        "Кроме того, по результатам опытов, были сделаны выводы о качестве разных моделей (для точности были использованы сходные настройки и одинаковые исходные данные), наиболее точными методами (самым низким коэффициентом MAE) оказались Multi-layer Perceptron regressor (Многослойный перцептрон) с коэффициентом MAE 0.226452 и Regression based on k-nearest neighbors (Метод k-ближайших соседей) с коэффициентом MAE 0.447921, а самой неточной оказалась модель  обычной линейной регрессии с коэффициентом MAE 0.671245."
      ]
    },
    {
      "cell_type": "code",
      "metadata": {
        "id": "CJqsqvoYJPNz"
      },
      "source": [
        ""
      ],
      "execution_count": null,
      "outputs": []
    }
  ]
}